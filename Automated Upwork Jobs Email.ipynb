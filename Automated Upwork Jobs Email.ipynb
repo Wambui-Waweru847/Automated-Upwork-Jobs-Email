{
 "cells": [
  {
   "cell_type": "markdown",
   "metadata": {},
   "source": [
    "#### Automate Upwork Email"
   ]
  },
  {
   "cell_type": "code",
   "execution_count": 9,
   "metadata": {},
   "outputs": [],
   "source": [
    "#Import libraries\n",
    "import time\n",
    "from bs4 import BeautifulSoup\n",
    "from selenium import webdriver\n",
    "from selenium.webdriver.common.by import By\n",
    "from selenium.webdriver.chrome.service import Service\n",
    "from selenium.webdriver.chrome.options import Options\n",
    "from webdriver_manager.chrome import ChromeDriverManager\n",
    "import yagmail"
   ]
  },
  {
   "cell_type": "code",
   "execution_count": 14,
   "metadata": {},
   "outputs": [
    {
     "name": "stdout",
     "output_type": "stream",
     "text": [
      "Email Sent Successfully\n"
     ]
    }
   ],
   "source": [
    "#Setting up the web-driver\n",
    "chrome_options = Options()\n",
    "chrome_options.add_argument(\"--start-maximized\")\n",
    "driver = webdriver.Chrome(service=Service(ChromeDriverManager().install()), options=chrome_options)\n",
    "def scraped_jobs(driver, url):\n",
    "    driver.get(url)\n",
    "    #Wait for the page to load\n",
    "    time.sleep(3)\n",
    "    job_listing = []\n",
    "    #Find jobs on the first page\n",
    "    job_cards = driver.find_elements(By.CSS_SELECTOR, \".job-title-header\")\n",
    "    #Iterate through each job_card found\n",
    "    for card in job_cards:\n",
    "        try:\n",
    "            #Extract the title and url\n",
    "            title_element = card.find_element(By.CSS_SELECTOR, \".job-tile-header d-flex align-items-start\")\n",
    "            job_title = title_element.text\n",
    "            job_url = title_element.get_attribute(\"href\")\n",
    "            job_listing.append(f\"Job Title:{job_title}\\nJob URL :{job_url}\\n\" + \"\" * 40)\n",
    "        except Exception as e:\n",
    "            print(f\"Error extracting scrape jobs : {e}\")\n",
    "            \n",
    "    \n",
    "    return \"\\n\".join(job_listing)\n",
    "\n",
    "def send_email(subject, body, to_email):\n",
    "    try:\n",
    "    #Initialize yagmail STMP client with email and app password\n",
    "        yag = yagmail.SMTP(\"wambuiwaweru026@gmail.com\", \"zbmy xxxb wzfi yill\")\n",
    "        yag.send(to=to_email, subject=subject, contents=body)\n",
    "        print(\"Email Sent Successfully\")\n",
    "    except Exception as e:\n",
    "        print(f\"Error sending email:{e}\")\n",
    "\n",
    "#Search url\n",
    "search_url = \"https://www.upwork.com/nx/search/jobs/?from_recent_search=true&q=data%20analyst&page=1\"\n",
    "job_listing = scraped_jobs(driver, search_url)\n",
    "#Email settings\n",
    "subject = \"Data Analyst Job Listing\"\n",
    "to_email = \"wambuiwaweru026@gmail.com\"\n",
    "#Sending the email\n",
    "send_email(subject, job_listing, to_email)\n",
    "#close the browser\n",
    "driver.quit()\n",
    "    "
   ]
  }
 ],
 "metadata": {
  "kernelspec": {
   "display_name": "Python 3",
   "language": "python",
   "name": "python3"
  },
  "language_info": {
   "codemirror_mode": {
    "name": "ipython",
    "version": 3
   },
   "file_extension": ".py",
   "mimetype": "text/x-python",
   "name": "python",
   "nbconvert_exporter": "python",
   "pygments_lexer": "ipython3",
   "version": "3.12.2"
  }
 },
 "nbformat": 4,
 "nbformat_minor": 2
}
